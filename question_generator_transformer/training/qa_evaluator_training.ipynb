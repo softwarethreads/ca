{
 "cells": [
  {
   "cell_type": "code",
   "execution_count": 1,
   "metadata": {
    "colab": {},
    "colab_type": "code",
    "id": "zYh3QRoOX5pt"
   },
   "outputs": [],
   "source": [
    "import os\n",
    "import sys\n",
    "import random\n",
    "import numpy as np\n",
    "import pandas as pd\n",
    "import torch\n",
    "from torch.utils.data import Dataset, DataLoader"
   ]
  },
  {
   "cell_type": "code",
   "execution_count": 2,
   "metadata": {
    "colab": {},
    "colab_type": "code",
    "id": "rCrFsm-Ucw1L"
   },
   "outputs": [
    {
     "name": "stdout",
     "output_type": "stream",
     "text": [
      "Requirement already satisfied: transformers in /Library/Frameworks/Python.framework/Versions/3.8/lib/python3.8/site-packages (3.5.1)\n",
      "Requirement already satisfied: numpy in /Library/Frameworks/Python.framework/Versions/3.8/lib/python3.8/site-packages (from transformers) (1.18.5)\n",
      "Requirement already satisfied: tokenizers==0.9.3 in /Library/Frameworks/Python.framework/Versions/3.8/lib/python3.8/site-packages (from transformers) (0.9.3)\n",
      "Requirement already satisfied: protobuf in /Library/Frameworks/Python.framework/Versions/3.8/lib/python3.8/site-packages (from transformers) (3.12.2)\n",
      "Requirement already satisfied: regex!=2019.12.17 in /Library/Frameworks/Python.framework/Versions/3.8/lib/python3.8/site-packages (from transformers) (2020.6.8)\n",
      "Requirement already satisfied: requests in /Library/Frameworks/Python.framework/Versions/3.8/lib/python3.8/site-packages (from transformers) (2.23.0)\n",
      "Requirement already satisfied: tqdm>=4.27 in /Library/Frameworks/Python.framework/Versions/3.8/lib/python3.8/site-packages (from transformers) (4.47.0)\n",
      "Requirement already satisfied: sentencepiece==0.1.91 in /Library/Frameworks/Python.framework/Versions/3.8/lib/python3.8/site-packages (from transformers) (0.1.91)\n",
      "Requirement already satisfied: sacremoses in /Library/Frameworks/Python.framework/Versions/3.8/lib/python3.8/site-packages (from transformers) (0.0.43)\n",
      "Requirement already satisfied: packaging in /Library/Frameworks/Python.framework/Versions/3.8/lib/python3.8/site-packages (from transformers) (20.4)\n",
      "Requirement already satisfied: filelock in /Library/Frameworks/Python.framework/Versions/3.8/lib/python3.8/site-packages (from transformers) (3.0.12)\n",
      "Requirement already satisfied: six>=1.9 in /Library/Frameworks/Python.framework/Versions/3.8/lib/python3.8/site-packages (from protobuf->transformers) (1.15.0)\n",
      "Requirement already satisfied: setuptools in /Library/Frameworks/Python.framework/Versions/3.8/lib/python3.8/site-packages (from protobuf->transformers) (41.2.0)\n",
      "Requirement already satisfied: certifi>=2017.4.17 in /Library/Frameworks/Python.framework/Versions/3.8/lib/python3.8/site-packages (from requests->transformers) (2020.4.5.1)\n",
      "Requirement already satisfied: idna<3,>=2.5 in /Library/Frameworks/Python.framework/Versions/3.8/lib/python3.8/site-packages (from requests->transformers) (2.9)\n",
      "Requirement already satisfied: chardet<4,>=3.0.2 in /Library/Frameworks/Python.framework/Versions/3.8/lib/python3.8/site-packages (from requests->transformers) (3.0.4)\n",
      "Requirement already satisfied: urllib3!=1.25.0,!=1.25.1,<1.26,>=1.21.1 in /Library/Frameworks/Python.framework/Versions/3.8/lib/python3.8/site-packages (from requests->transformers) (1.25.9)\n",
      "Requirement already satisfied: joblib in /Library/Frameworks/Python.framework/Versions/3.8/lib/python3.8/site-packages (from sacremoses->transformers) (0.15.1)\n",
      "Requirement already satisfied: click in /Library/Frameworks/Python.framework/Versions/3.8/lib/python3.8/site-packages (from sacremoses->transformers) (7.1.2)\n",
      "Requirement already satisfied: pyparsing>=2.0.2 in /Library/Frameworks/Python.framework/Versions/3.8/lib/python3.8/site-packages (from packaging->transformers) (2.4.7)\n"
     ]
    }
   ],
   "source": [
    "!pip install transformers"
   ]
  },
  {
   "cell_type": "code",
   "execution_count": 3,
   "metadata": {
    "colab": {},
    "colab_type": "code",
    "id": "MoVZz2ipcyED"
   },
   "outputs": [],
   "source": [
    "from transformers import BertTokenizer\n",
    "from transformers import BertForSequenceClassification\n",
    "from transformers import BertConfig"
   ]
  },
  {
   "cell_type": "code",
   "execution_count": 4,
   "metadata": {
    "colab": {},
    "colab_type": "code",
    "id": "FZ7-oYxKbShb"
   },
   "outputs": [
    {
     "name": "stdout",
     "output_type": "stream",
     "text": [
      "Requirement already up-to-date: spacy[cuda92] in /Library/Frameworks/Python.framework/Versions/3.8/lib/python3.8/site-packages (2.3.2)\n",
      "Requirement already satisfied, skipping upgrade: murmurhash<1.1.0,>=0.28.0 in /Library/Frameworks/Python.framework/Versions/3.8/lib/python3.8/site-packages (from spacy[cuda92]) (1.0.2)\n",
      "Requirement already satisfied, skipping upgrade: wasabi<1.1.0,>=0.4.0 in /Library/Frameworks/Python.framework/Versions/3.8/lib/python3.8/site-packages (from spacy[cuda92]) (0.7.0)\n",
      "Requirement already satisfied, skipping upgrade: plac<1.2.0,>=0.9.6 in /Library/Frameworks/Python.framework/Versions/3.8/lib/python3.8/site-packages (from spacy[cuda92]) (1.1.3)\n",
      "Requirement already satisfied, skipping upgrade: tqdm<5.0.0,>=4.38.0 in /Library/Frameworks/Python.framework/Versions/3.8/lib/python3.8/site-packages (from spacy[cuda92]) (4.47.0)\n",
      "Requirement already satisfied, skipping upgrade: preshed<3.1.0,>=3.0.2 in /Library/Frameworks/Python.framework/Versions/3.8/lib/python3.8/site-packages (from spacy[cuda92]) (3.0.2)\n",
      "Requirement already satisfied, skipping upgrade: srsly<1.1.0,>=1.0.2 in /Library/Frameworks/Python.framework/Versions/3.8/lib/python3.8/site-packages (from spacy[cuda92]) (1.0.2)\n",
      "Requirement already satisfied, skipping upgrade: requests<3.0.0,>=2.13.0 in /Library/Frameworks/Python.framework/Versions/3.8/lib/python3.8/site-packages (from spacy[cuda92]) (2.23.0)\n",
      "Requirement already satisfied, skipping upgrade: cymem<2.1.0,>=2.0.2 in /Library/Frameworks/Python.framework/Versions/3.8/lib/python3.8/site-packages (from spacy[cuda92]) (2.0.3)\n",
      "Requirement already satisfied, skipping upgrade: numpy>=1.15.0 in /Library/Frameworks/Python.framework/Versions/3.8/lib/python3.8/site-packages (from spacy[cuda92]) (1.18.5)\n",
      "Requirement already satisfied, skipping upgrade: blis<0.5.0,>=0.4.0 in /Library/Frameworks/Python.framework/Versions/3.8/lib/python3.8/site-packages (from spacy[cuda92]) (0.4.1)\n",
      "Requirement already satisfied, skipping upgrade: catalogue<1.1.0,>=0.0.7 in /Library/Frameworks/Python.framework/Versions/3.8/lib/python3.8/site-packages (from spacy[cuda92]) (1.0.0)\n",
      "Requirement already satisfied, skipping upgrade: thinc==7.4.1 in /Library/Frameworks/Python.framework/Versions/3.8/lib/python3.8/site-packages (from spacy[cuda92]) (7.4.1)\n",
      "Requirement already satisfied, skipping upgrade: setuptools in /Library/Frameworks/Python.framework/Versions/3.8/lib/python3.8/site-packages (from spacy[cuda92]) (41.2.0)\n",
      "\u001b[31mERROR: Could not find a version that satisfies the requirement cupy-cuda92<9.0.0,>=5.0.0b4; extra == \"cuda92\" (from spacy[cuda92]) (from versions: none)\u001b[0m\n",
      "\u001b[31mERROR: No matching distribution found for cupy-cuda92<9.0.0,>=5.0.0b4; extra == \"cuda92\" (from spacy[cuda92])\u001b[0m\n",
      "/usr/bin/python: No module named spacy\n"
     ]
    }
   ],
   "source": [
    "!pip install -U spacy[cuda92]\n",
    "!python -m spacy download en_core_web_sm\n",
    "import spacy\n",
    "import en_core_web_sm\n",
    "spacy.prefer_gpu()\n",
    "spacy_nlp = en_core_web_sm.load()"
   ]
  },
  {
   "cell_type": "code",
   "execution_count": 5,
   "metadata": {
    "colab": {},
    "colab_type": "code",
    "id": "lIW-LTWri3PT"
   },
   "outputs": [
    {
     "name": "stdout",
     "output_type": "stream",
     "text": [
      "Using device: cpu\n"
     ]
    }
   ],
   "source": [
    "device = torch.device('cuda' if torch.cuda.is_available() else 'cpu')\n",
    "print('Using device:', device)"
   ]
  },
  {
   "cell_type": "code",
   "execution_count": 6,
   "metadata": {
    "colab": {},
    "colab_type": "code",
    "id": "hqayKzYSc5tg"
   },
   "outputs": [],
   "source": [
    "DIR = \"question_generator/\"\n",
    "PRETRAINED_MODEL = 'bert-base-cased'\n",
    "BATCH_SIZE = 16\n",
    "SEQ_LENGTH = 512\n",
    "\n",
    "tokenizer = BertTokenizer.from_pretrained(PRETRAINED_MODEL)\n",
    "\n",
    "class QAEvalDataset(Dataset):\n",
    "    def __init__(self, csv):\n",
    "        self.df = pd.read_csv(csv, engine='python')\n",
    "        self.transforms = [self.shuffle, self.corrupt]\n",
    "\n",
    "    def __len__(self):\n",
    "         return len(self.df)\n",
    "\n",
    "    def __getitem__(self, idx): \n",
    "        _, question, answer = self.df.iloc[idx]\n",
    "        label = random.choice([0, 1])\n",
    "\n",
    "        if label == 0:\n",
    "            question, answer = random.choice(self.transforms)(question, answer)\n",
    "\n",
    "        encoded_data = tokenizer(\n",
    "            text=question,\n",
    "            text_pair=answer,\n",
    "            pad_to_max_length=True, \n",
    "            max_length=SEQ_LENGTH,\n",
    "            truncation=True,\n",
    "            return_tensors=\"pt\"\n",
    "        )\n",
    "\n",
    "        encoded_data['input_ids'] = torch.squeeze(encoded_data['input_ids'])\n",
    "        encoded_data['token_type_ids'] = torch.squeeze(encoded_data['token_type_ids'])\n",
    "        encoded_data['attention_mask'] = torch.squeeze(encoded_data['attention_mask'])\n",
    "        return (encoded_data.to(device), torch.tensor(label).to(device))\n",
    "    \n",
    "    def shuffle(self, question, answer):\n",
    "        shuffled_answer = answer\n",
    "        while shuffled_answer == answer:\n",
    "            shuffled_answer = self.df.sample(1)['answer'].item()\n",
    "        return question, shuffled_answer\n",
    "    \n",
    "    def corrupt(self, question, answer):\n",
    "        doc = spacy_nlp(question)\n",
    "        if len(doc.ents) > 1:\n",
    "            # Replace all entities in the sentence with the same thing\n",
    "            copy_ent = str(random.choice(doc.ents))\n",
    "            for ent in doc.ents:\n",
    "                question = question.replace(str(ent), copy_ent)\n",
    "        elif len(doc.ents) == 1:\n",
    "            # Replace the answer with an entity from the question\n",
    "            answer = str(doc.ents[0])\n",
    "        else:\n",
    "            question, answer = self.shuffle(question, answer)\n",
    "        return question, answer\n",
    "\n",
    "\n",
    "train_set = QAEvalDataset(os.path.join(DIR, 'qa_eval_train.csv')) \n",
    "train_loader = DataLoader(train_set, batch_size=BATCH_SIZE, shuffle=True)\n",
    "valid_set = QAEvalDataset(os.path.join(DIR, 'qa_eval_valid.csv')) \n",
    "valid_loader = DataLoader(valid_set, batch_size=BATCH_SIZE, shuffle=False)"
   ]
  },
  {
   "cell_type": "code",
   "execution_count": 7,
   "metadata": {
    "colab": {},
    "colab_type": "code",
    "id": "8E4jQkWdolsT"
   },
   "outputs": [
    {
     "name": "stderr",
     "output_type": "stream",
     "text": [
      "Some weights of the model checkpoint at bert-base-cased were not used when initializing BertForSequenceClassification: ['cls.predictions.bias', 'cls.predictions.transform.dense.weight', 'cls.predictions.transform.dense.bias', 'cls.predictions.decoder.weight', 'cls.seq_relationship.weight', 'cls.seq_relationship.bias', 'cls.predictions.transform.LayerNorm.weight', 'cls.predictions.transform.LayerNorm.bias']\n",
      "- This IS expected if you are initializing BertForSequenceClassification from the checkpoint of a model trained on another task or with another architecture (e.g. initializing a BertForSequenceClassification model from a BertForPreTraining model).\n",
      "- This IS NOT expected if you are initializing BertForSequenceClassification from the checkpoint of a model that you expect to be exactly identical (initializing a BertForSequenceClassification model from a BertForSequenceClassification model).\n",
      "Some weights of BertForSequenceClassification were not initialized from the model checkpoint at bert-base-cased and are newly initialized: ['classifier.weight', 'classifier.bias']\n",
      "You should probably TRAIN this model on a down-stream task to be able to use it for predictions and inference.\n"
     ]
    }
   ],
   "source": [
    "LR = 0.001\n",
    "EPOCHS = 10\n",
    "LOG_INTERVAL = 500\n",
    "\n",
    "model = BertForSequenceClassification.from_pretrained(PRETRAINED_MODEL)\n",
    "model = model.to(device)\n",
    "optimizer = torch.optim.SGD(model.parameters(), lr=LR)"
   ]
  },
  {
   "cell_type": "code",
   "execution_count": 8,
   "metadata": {
    "colab": {},
    "colab_type": "code",
    "id": "CKcR_AClq6IG"
   },
   "outputs": [],
   "source": [
    "SAVED_MODEL_PATH = \"question_generator/qa_eval_model_trained.pth\"\n",
    "\n",
    "def train():\n",
    "    model.train()\n",
    "    total_loss = 0.\n",
    "    for batch_index, batch in enumerate(train_loader):\n",
    "        data, labels = batch\n",
    "        optimizer.zero_grad()\n",
    "        output = model(**data, labels=labels)\n",
    "        loss = output[0]\n",
    "        loss.backward()\n",
    "        torch.nn.utils.clip_grad_norm_(model.parameters(), 0.5)\n",
    "        optimizer.step()\n",
    "        total_loss += loss.item()\n",
    "        \n",
    "        if batch_index % LOG_INTERVAL == 0 and batch_index > 0:\n",
    "            cur_loss = total_loss / LOG_INTERVAL\n",
    "            print('| epoch {:3d} | ' \n",
    "                  '{:5d}/{:5d} batches | '\n",
    "                  'loss {:5.2f}'.format(\n",
    "                    epoch, \n",
    "                    batch_index, len(train_loader), \n",
    "                    cur_loss))\n",
    "            total_loss = 0\n",
    "\n",
    "def evaluate(eval_model, data_loader):\n",
    "    eval_model.eval()\n",
    "    total_score = 0.\n",
    "    with torch.no_grad():\n",
    "        for batch_index, batch in enumerate(data_loader):\n",
    "            data, labels = batch\n",
    "            output = eval_model(**data, labels=labels)\n",
    "            preds = np.argmax(output[1].cpu(), axis=1)\n",
    "            total_score += (preds == labels.cpu()).sum()\n",
    "    return total_score / (len(data_loader) * BATCH_SIZE)\n",
    "\n",
    "def save(epoch, model_state_dict, optimizer_state_dict, loss):\n",
    "    torch.save({\n",
    "            'epoch': epoch,\n",
    "            'model_state_dict': model_state_dict,\n",
    "            'optimizer_state_dict': optimizer_state_dict,\n",
    "            'best_loss': loss,\n",
    "            }, SAVED_MODEL_PATH)\n",
    "\n",
    "    print(\"| Model saved.\")\n",
    "    print_line()\n",
    "\n",
    "def load():\n",
    "    return torch.load(SAVED_MODEL_PATH)\n",
    "\n",
    "def print_line():\n",
    "    LINE_WIDTH = 60\n",
    "    print('-' * LINE_WIDTH)"
   ]
  },
  {
   "cell_type": "code",
   "execution_count": null,
   "metadata": {
    "colab": {},
    "colab_type": "code",
    "id": "vGzxEzlPjjwp"
   },
   "outputs": [],
   "source": [
    "highest_accuracy = 0\n",
    "\n",
    "accuracy = evaluate(model, valid_loader)\n",
    "print_line()\n",
    "print('| Before training | accuracy on valid set: {:5.2f}%'.format(accuracy))\n",
    "print_line()\n",
    "\n",
    "for epoch in range(1, EPOCHS + 1):\n",
    "\n",
    "    train()\n",
    "    accuracy = evaluate(model, valid_loader)\n",
    "    print_line()\n",
    "    print('| end of epoch {:3d} | accuracy on valid set: {:5.2f}%'.format(\n",
    "        epoch,\n",
    "        accuracy)\n",
    "    )\n",
    "    print_line()\n",
    "\n",
    "    if accuracy > highest_accuracy:\n",
    "        highest_accuracy = accuracy\n",
    "        save(\n",
    "             epoch, \n",
    "             model.state_dict(), \n",
    "             optimizer.state_dict(), \n",
    "             highest_accuracy\n",
    "        )"
   ]
  },
  {
   "cell_type": "code",
   "execution_count": null,
   "metadata": {},
   "outputs": [],
   "source": []
  },
  {
   "cell_type": "code",
   "execution_count": null,
   "metadata": {},
   "outputs": [],
   "source": []
  }
 ],
 "metadata": {
  "accelerator": "GPU",
  "colab": {
   "authorship_tag": "ABX9TyO+frNBr60urb4CDRgCiqFz",
   "collapsed_sections": [],
   "mount_file_id": "1emXX3VUG1HfrPUk65Tcyabxc_1I5nJhb",
   "name": "qa_evaluator_training.ipynb",
   "provenance": []
  },
  "kernelspec": {
   "display_name": "Python 3",
   "language": "python",
   "name": "python3"
  },
  "language_info": {
   "codemirror_mode": {
    "name": "ipython",
    "version": 3
   },
   "file_extension": ".py",
   "mimetype": "text/x-python",
   "name": "python",
   "nbconvert_exporter": "python",
   "pygments_lexer": "ipython3",
   "version": "3.8.3"
  }
 },
 "nbformat": 4,
 "nbformat_minor": 1
}
